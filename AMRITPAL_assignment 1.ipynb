{
 "cells": [
  {
   "cell_type": "markdown",
   "id": "7f93040d",
   "metadata": {},
   "source": [
    "## import libraries\n"
   ]
  },
  {
   "cell_type": "code",
   "execution_count": 1,
   "id": "f5877584",
   "metadata": {},
   "outputs": [],
   "source": [
    "import numpy as np\n",
    "import pandas as pd\n",
    "import matplotlib.pyplot as plt\n",
    "import statsmodels.api as sm\n",
    "import seaborn as sns"
   ]
  },
  {
   "cell_type": "markdown",
   "id": "f051e267",
   "metadata": {},
   "source": [
    "# load data"
   ]
  },
  {
   "cell_type": "code",
   "execution_count": 2,
   "id": "d3a99991",
   "metadata": {},
   "outputs": [
    {
     "data": {
      "text/html": [
       "<div>\n",
       "<style scoped>\n",
       "    .dataframe tbody tr th:only-of-type {\n",
       "        vertical-align: middle;\n",
       "    }\n",
       "\n",
       "    .dataframe tbody tr th {\n",
       "        vertical-align: top;\n",
       "    }\n",
       "\n",
       "    .dataframe thead th {\n",
       "        text-align: right;\n",
       "    }\n",
       "</style>\n",
       "<table border=\"1\" class=\"dataframe\">\n",
       "  <thead>\n",
       "    <tr style=\"text-align: right;\">\n",
       "      <th></th>\n",
       "      <th>Unnamed: 0</th>\n",
       "      <th>Service_provider</th>\n",
       "      <th>technology</th>\n",
       "      <th>Download_Upload</th>\n",
       "      <th>Data_Speed(Kbps)</th>\n",
       "      <th>signal_strength</th>\n",
       "      <th>Service_Area</th>\n",
       "    </tr>\n",
       "  </thead>\n",
       "  <tbody>\n",
       "    <tr>\n",
       "      <th>0</th>\n",
       "      <td>0</td>\n",
       "      <td>AIRTEL</td>\n",
       "      <td>4G</td>\n",
       "      <td>download</td>\n",
       "      <td>4794</td>\n",
       "      <td>-53.0</td>\n",
       "      <td>UP East</td>\n",
       "    </tr>\n",
       "    <tr>\n",
       "      <th>1</th>\n",
       "      <td>1</td>\n",
       "      <td>AIRTEL</td>\n",
       "      <td>4G</td>\n",
       "      <td>upload</td>\n",
       "      <td>536</td>\n",
       "      <td>-59.0</td>\n",
       "      <td>UP East</td>\n",
       "    </tr>\n",
       "    <tr>\n",
       "      <th>2</th>\n",
       "      <td>2</td>\n",
       "      <td>JIO</td>\n",
       "      <td>4G</td>\n",
       "      <td>download</td>\n",
       "      <td>38507</td>\n",
       "      <td>-59.0</td>\n",
       "      <td>UP West</td>\n",
       "    </tr>\n",
       "    <tr>\n",
       "      <th>3</th>\n",
       "      <td>3</td>\n",
       "      <td>JIO</td>\n",
       "      <td>4G</td>\n",
       "      <td>download</td>\n",
       "      <td>78938</td>\n",
       "      <td>-59.0</td>\n",
       "      <td>UP West</td>\n",
       "    </tr>\n",
       "    <tr>\n",
       "      <th>4</th>\n",
       "      <td>4</td>\n",
       "      <td>JIO</td>\n",
       "      <td>4G</td>\n",
       "      <td>upload</td>\n",
       "      <td>3560</td>\n",
       "      <td>-59.0</td>\n",
       "      <td>UP West</td>\n",
       "    </tr>\n",
       "    <tr>\n",
       "      <th>...</th>\n",
       "      <td>...</td>\n",
       "      <td>...</td>\n",
       "      <td>...</td>\n",
       "      <td>...</td>\n",
       "      <td>...</td>\n",
       "      <td>...</td>\n",
       "      <td>...</td>\n",
       "    </tr>\n",
       "    <tr>\n",
       "      <th>3995</th>\n",
       "      <td>3995</td>\n",
       "      <td>JIO</td>\n",
       "      <td>4G</td>\n",
       "      <td>upload</td>\n",
       "      <td>5419</td>\n",
       "      <td>-69.0</td>\n",
       "      <td>UP East</td>\n",
       "    </tr>\n",
       "    <tr>\n",
       "      <th>3996</th>\n",
       "      <td>3996</td>\n",
       "      <td>VODAFONE</td>\n",
       "      <td>4G</td>\n",
       "      <td>download</td>\n",
       "      <td>139</td>\n",
       "      <td>NaN</td>\n",
       "      <td>Delhi</td>\n",
       "    </tr>\n",
       "    <tr>\n",
       "      <th>3997</th>\n",
       "      <td>3997</td>\n",
       "      <td>VODAFONE</td>\n",
       "      <td>4G</td>\n",
       "      <td>download</td>\n",
       "      <td>22</td>\n",
       "      <td>-73.0</td>\n",
       "      <td>Delhi</td>\n",
       "    </tr>\n",
       "    <tr>\n",
       "      <th>3998</th>\n",
       "      <td>3998</td>\n",
       "      <td>JIO</td>\n",
       "      <td>4G</td>\n",
       "      <td>download</td>\n",
       "      <td>14804</td>\n",
       "      <td>-61.0</td>\n",
       "      <td>Delhi</td>\n",
       "    </tr>\n",
       "    <tr>\n",
       "      <th>3999</th>\n",
       "      <td>3999</td>\n",
       "      <td>VODAFONE</td>\n",
       "      <td>4G</td>\n",
       "      <td>upload</td>\n",
       "      <td>1020</td>\n",
       "      <td>-73.0</td>\n",
       "      <td>Delhi</td>\n",
       "    </tr>\n",
       "  </tbody>\n",
       "</table>\n",
       "<p>4000 rows × 7 columns</p>\n",
       "</div>"
      ],
      "text/plain": [
       "      Unnamed: 0 Service_provider technology Download_Upload  \\\n",
       "0              0           AIRTEL         4G        download   \n",
       "1              1           AIRTEL         4G          upload   \n",
       "2              2              JIO         4G        download   \n",
       "3              3              JIO         4G        download   \n",
       "4              4              JIO         4G          upload   \n",
       "...          ...              ...        ...             ...   \n",
       "3995        3995              JIO         4G          upload   \n",
       "3996        3996         VODAFONE         4G        download   \n",
       "3997        3997         VODAFONE         4G        download   \n",
       "3998        3998              JIO         4G        download   \n",
       "3999        3999         VODAFONE         4G          upload   \n",
       "\n",
       "      Data_Speed(Kbps)  signal_strength Service_Area  \n",
       "0                 4794            -53.0      UP East  \n",
       "1                  536            -59.0      UP East  \n",
       "2                38507            -59.0      UP West  \n",
       "3                78938            -59.0      UP West  \n",
       "4                 3560            -59.0      UP West  \n",
       "...                ...              ...          ...  \n",
       "3995              5419            -69.0      UP East  \n",
       "3996               139              NaN        Delhi  \n",
       "3997                22            -73.0        Delhi  \n",
       "3998             14804            -61.0        Delhi  \n",
       "3999              1020            -73.0        Delhi  \n",
       "\n",
       "[4000 rows x 7 columns]"
      ]
     },
     "execution_count": 2,
     "metadata": {},
     "output_type": "execute_result"
    }
   ],
   "source": [
    "df = pd.read_csv('Dataset Data Divination.csv')\n",
    "df"
   ]
  },
  {
   "cell_type": "code",
   "execution_count": 3,
   "id": "e87ee530",
   "metadata": {},
   "outputs": [
    {
     "data": {
      "text/html": [
       "<div>\n",
       "<style scoped>\n",
       "    .dataframe tbody tr th:only-of-type {\n",
       "        vertical-align: middle;\n",
       "    }\n",
       "\n",
       "    .dataframe tbody tr th {\n",
       "        vertical-align: top;\n",
       "    }\n",
       "\n",
       "    .dataframe thead th {\n",
       "        text-align: right;\n",
       "    }\n",
       "</style>\n",
       "<table border=\"1\" class=\"dataframe\">\n",
       "  <thead>\n",
       "    <tr style=\"text-align: right;\">\n",
       "      <th></th>\n",
       "      <th>Unnamed: 0</th>\n",
       "      <th>technology</th>\n",
       "      <th>Download_Upload</th>\n",
       "      <th>Data_Speed(Kbps)</th>\n",
       "      <th>signal_strength</th>\n",
       "      <th>Service_Area</th>\n",
       "    </tr>\n",
       "    <tr>\n",
       "      <th>Service_provider</th>\n",
       "      <th></th>\n",
       "      <th></th>\n",
       "      <th></th>\n",
       "      <th></th>\n",
       "      <th></th>\n",
       "      <th></th>\n",
       "    </tr>\n",
       "  </thead>\n",
       "  <tbody>\n",
       "    <tr>\n",
       "      <th>AIRTEL</th>\n",
       "      <td>669</td>\n",
       "      <td>669</td>\n",
       "      <td>669</td>\n",
       "      <td>669</td>\n",
       "      <td>546</td>\n",
       "      <td>669</td>\n",
       "    </tr>\n",
       "    <tr>\n",
       "      <th>CELLONE</th>\n",
       "      <td>205</td>\n",
       "      <td>205</td>\n",
       "      <td>205</td>\n",
       "      <td>205</td>\n",
       "      <td>74</td>\n",
       "      <td>205</td>\n",
       "    </tr>\n",
       "    <tr>\n",
       "      <th>IDEA</th>\n",
       "      <td>338</td>\n",
       "      <td>338</td>\n",
       "      <td>338</td>\n",
       "      <td>338</td>\n",
       "      <td>300</td>\n",
       "      <td>338</td>\n",
       "    </tr>\n",
       "    <tr>\n",
       "      <th>JIO</th>\n",
       "      <td>1983</td>\n",
       "      <td>1983</td>\n",
       "      <td>1983</td>\n",
       "      <td>1983</td>\n",
       "      <td>1836</td>\n",
       "      <td>1983</td>\n",
       "    </tr>\n",
       "    <tr>\n",
       "      <th>VODAFONE</th>\n",
       "      <td>805</td>\n",
       "      <td>805</td>\n",
       "      <td>805</td>\n",
       "      <td>805</td>\n",
       "      <td>696</td>\n",
       "      <td>805</td>\n",
       "    </tr>\n",
       "  </tbody>\n",
       "</table>\n",
       "</div>"
      ],
      "text/plain": [
       "                  Unnamed: 0  technology  Download_Upload  Data_Speed(Kbps)  \\\n",
       "Service_provider                                                              \n",
       "AIRTEL                   669         669              669               669   \n",
       "CELLONE                  205         205              205               205   \n",
       "IDEA                     338         338              338               338   \n",
       "JIO                     1983        1983             1983              1983   \n",
       "VODAFONE                 805         805              805               805   \n",
       "\n",
       "                  signal_strength  Service_Area  \n",
       "Service_provider                                 \n",
       "AIRTEL                        546           669  \n",
       "CELLONE                        74           205  \n",
       "IDEA                          300           338  \n",
       "JIO                          1836          1983  \n",
       "VODAFONE                      696           805  "
      ]
     },
     "execution_count": 3,
     "metadata": {},
     "output_type": "execute_result"
    }
   ],
   "source": [
    "df.groupby('Service_provider').count()"
   ]
  },
  {
   "cell_type": "markdown",
   "id": "75e6bf6d",
   "metadata": {},
   "source": [
    "## 1. Replace- ('AIRTEL', 'JIO', 'CELLONE', 'VODAFONE', 'IDEA') with (0,1,2,3,4) respectively"
   ]
  },
  {
   "cell_type": "code",
   "execution_count": 4,
   "id": "ff0e1e24",
   "metadata": {},
   "outputs": [
    {
     "data": {
      "text/plain": [
       "0       0\n",
       "1       0\n",
       "2       3\n",
       "3       3\n",
       "4       3\n",
       "       ..\n",
       "3995    3\n",
       "3996    4\n",
       "3997    4\n",
       "3998    3\n",
       "3999    4\n",
       "Name: Service_provider, Length: 4000, dtype: int64"
      ]
     },
     "execution_count": 4,
     "metadata": {},
     "output_type": "execute_result"
    }
   ],
   "source": [
    "df_1 = df['Service_provider'].replace(['AIRTEL','CELLONE','IDEA','JIO','VODAFONE'],[0,1,2,3,4] )\n",
    "df_1\n"
   ]
  },
  {
   "cell_type": "markdown",
   "id": "6d4e7bef",
   "metadata": {},
   "source": [
    "## 2. Replace- (dowload,upload) with (0,1) respectively."
   ]
  },
  {
   "cell_type": "code",
   "execution_count": 5,
   "id": "4ff2c870",
   "metadata": {},
   "outputs": [
    {
     "data": {
      "text/plain": [
       "0       0\n",
       "1       1\n",
       "2       0\n",
       "3       0\n",
       "4       1\n",
       "       ..\n",
       "3995    1\n",
       "3996    0\n",
       "3997    0\n",
       "3998    0\n",
       "3999    1\n",
       "Name: Download_Upload, Length: 4000, dtype: int64"
      ]
     },
     "execution_count": 5,
     "metadata": {},
     "output_type": "execute_result"
    }
   ],
   "source": [
    "df['Download_Upload'].replace(['download','upload'],[0,1])\n"
   ]
  },
  {
   "cell_type": "markdown",
   "id": "5a744698",
   "metadata": {},
   "source": [
    "## 3. Fill null values (if any) with median of that column."
   ]
  },
  {
   "cell_type": "code",
   "execution_count": 6,
   "id": "7d200614",
   "metadata": {},
   "outputs": [
    {
     "data": {
      "text/html": [
       "<div>\n",
       "<style scoped>\n",
       "    .dataframe tbody tr th:only-of-type {\n",
       "        vertical-align: middle;\n",
       "    }\n",
       "\n",
       "    .dataframe tbody tr th {\n",
       "        vertical-align: top;\n",
       "    }\n",
       "\n",
       "    .dataframe thead th {\n",
       "        text-align: right;\n",
       "    }\n",
       "</style>\n",
       "<table border=\"1\" class=\"dataframe\">\n",
       "  <thead>\n",
       "    <tr style=\"text-align: right;\">\n",
       "      <th></th>\n",
       "      <th>Unnamed: 0</th>\n",
       "      <th>Data_Speed(Kbps)</th>\n",
       "      <th>signal_strength</th>\n",
       "    </tr>\n",
       "  </thead>\n",
       "  <tbody>\n",
       "    <tr>\n",
       "      <th>count</th>\n",
       "      <td>4000.000000</td>\n",
       "      <td>4000.000000</td>\n",
       "      <td>3452.000000</td>\n",
       "    </tr>\n",
       "    <tr>\n",
       "      <th>mean</th>\n",
       "      <td>1999.500000</td>\n",
       "      <td>8315.810000</td>\n",
       "      <td>-82.202491</td>\n",
       "    </tr>\n",
       "    <tr>\n",
       "      <th>std</th>\n",
       "      <td>1154.844867</td>\n",
       "      <td>15561.302023</td>\n",
       "      <td>18.173601</td>\n",
       "    </tr>\n",
       "    <tr>\n",
       "      <th>min</th>\n",
       "      <td>0.000000</td>\n",
       "      <td>0.000000</td>\n",
       "      <td>-112.000000</td>\n",
       "    </tr>\n",
       "    <tr>\n",
       "      <th>25%</th>\n",
       "      <td>999.750000</td>\n",
       "      <td>772.750000</td>\n",
       "      <td>-100.000000</td>\n",
       "    </tr>\n",
       "    <tr>\n",
       "      <th>50%</th>\n",
       "      <td>1999.500000</td>\n",
       "      <td>2749.500000</td>\n",
       "      <td>-81.000000</td>\n",
       "    </tr>\n",
       "    <tr>\n",
       "      <th>75%</th>\n",
       "      <td>2999.250000</td>\n",
       "      <td>7968.250000</td>\n",
       "      <td>-67.000000</td>\n",
       "    </tr>\n",
       "    <tr>\n",
       "      <th>max</th>\n",
       "      <td>3999.000000</td>\n",
       "      <td>80755.000000</td>\n",
       "      <td>-51.000000</td>\n",
       "    </tr>\n",
       "  </tbody>\n",
       "</table>\n",
       "</div>"
      ],
      "text/plain": [
       "        Unnamed: 0  Data_Speed(Kbps)  signal_strength\n",
       "count  4000.000000       4000.000000      3452.000000\n",
       "mean   1999.500000       8315.810000       -82.202491\n",
       "std    1154.844867      15561.302023        18.173601\n",
       "min       0.000000          0.000000      -112.000000\n",
       "25%     999.750000        772.750000      -100.000000\n",
       "50%    1999.500000       2749.500000       -81.000000\n",
       "75%    2999.250000       7968.250000       -67.000000\n",
       "max    3999.000000      80755.000000       -51.000000"
      ]
     },
     "execution_count": 6,
     "metadata": {},
     "output_type": "execute_result"
    }
   ],
   "source": [
    "df.describe()"
   ]
  },
  {
   "cell_type": "code",
   "execution_count": 7,
   "id": "473ef020",
   "metadata": {},
   "outputs": [
    {
     "name": "stdout",
     "output_type": "stream",
     "text": [
      "meadian of signal_strength is -81.0\n"
     ]
    },
    {
     "data": {
      "text/plain": [
       "0      -53.0\n",
       "1      -59.0\n",
       "2      -59.0\n",
       "3      -59.0\n",
       "4      -59.0\n",
       "        ... \n",
       "3995   -69.0\n",
       "3996   -81.0\n",
       "3997   -73.0\n",
       "3998   -61.0\n",
       "3999   -73.0\n",
       "Name: signal_strength, Length: 4000, dtype: float64"
      ]
     },
     "execution_count": 7,
     "metadata": {},
     "output_type": "execute_result"
    }
   ],
   "source": [
    "# getting the average of signal_strength (avgss)\n",
    "avgss = df['signal_strength'].median()\n",
    "print('meadian of signal_strength is',avgss)\n",
    "# replacing nan with meadian\n",
    "df['signal_strength'].fillna(avgss)\n"
   ]
  },
  {
   "cell_type": "markdown",
   "id": "0aa3b9d7",
   "metadata": {},
   "source": [
    "## 4. Calculate the mean Data_Speed of the records having Service_provider 0 or 2."
   ]
  },
  {
   "cell_type": "code",
   "execution_count": 8,
   "id": "0a4b3dd6",
   "metadata": {},
   "outputs": [
    {
     "data": {
      "text/plain": [
       "nan"
      ]
     },
     "execution_count": 8,
     "metadata": {},
     "output_type": "execute_result"
    }
   ],
   "source": [
    "df.loc[df['Service_provider'] == 0 |2]['Data_Speed(Kbps)'].mean()\n"
   ]
  },
  {
   "cell_type": "markdown",
   "id": "5c849a39",
   "metadata": {},
   "source": [
    "## 5.Make a visualization to show the relationship between 'Service_provider' and 'Data_Speed(Kbps)' using Matplotlib package in Python"
   ]
  },
  {
   "cell_type": "code",
   "execution_count": 9,
   "id": "1bb9343b",
   "metadata": {
    "scrolled": false
   },
   "outputs": [
    {
     "data": {
      "image/png": "[encoded data removed]",
      "text/plain": [
       "<Figure size 640x480 with 1 Axes>"
      ]
     },
     "metadata": {},
     "output_type": "display_data"
    }
   ],
   "source": [
    "x = df['Service_provider']\n",
    "y = df['Data_Speed(Kbps)']\n",
    "plt.plot(x,y,'o' )\n",
    "# plt.set_xticklabels(['AIRTEL','CELLONE','IDEA','JIO','VODAFONE'])\n",
    "plt.show()"
   ]
  },
  {
   "cell_type": "markdown",
   "id": "357b22be",
   "metadata": {},
   "source": [
    "## 6 Count the number of records having signal_strength less than -78."
   ]
  },
  {
   "cell_type": "code",
   "execution_count": 10,
   "id": "d20bbed7",
   "metadata": {},
   "outputs": [
    {
     "data": {
      "text/plain": [
       "Unnamed: 0          1822\n",
       "Service_provider    1822\n",
       "technology          1822\n",
       "Download_Upload     1822\n",
       "Data_Speed(Kbps)    1822\n",
       "signal_strength     1822\n",
       "Service_Area        1822\n",
       "dtype: int64"
      ]
     },
     "execution_count": 10,
     "metadata": {},
     "output_type": "execute_result"
    }
   ],
   "source": [
    "# will use df_na dataset n wich nan values have been replaced with median of dataset\n",
    "df.loc[df['signal_strength']<-78].count()"
   ]
  },
  {
   "cell_type": "markdown",
   "id": "3d994c73",
   "metadata": {},
   "source": [
    "## 7. Explain about the nature of Histogram of 'Data_Speed(Kbps)' feature. Visualize it using Seaborn library."
   ]
  },
  {
   "cell_type": "code",
   "execution_count": 11,
   "id": "df702a82",
   "metadata": {
    "scrolled": true
   },
   "outputs": [
    {
     "data": {
      "image/png": "[encoded data removed]",
      "text/plain": [
       "<Figure size 640x480 with 1 Axes>"
      ]
     },
     "metadata": {},
     "output_type": "display_data"
    }
   ],
   "source": [
    "z = df['Data_Speed(Kbps)']\n",
    "sns.histplot(z, binwidth = 5000)\n",
    "plt.show()"
   ]
  },
  {
   "cell_type": "markdown",
   "id": "90befa9f",
   "metadata": {},
   "source": [
    "graph depicting that there are lot more number of counts which have less speed "
   ]
  },
  {
   "cell_type": "markdown",
   "id": "f9cf8f4b",
   "metadata": {},
   "source": [
    "## 8. Describe the numerical features in the data-set statistically."
   ]
  },
  {
   "cell_type": "code",
   "execution_count": 12,
   "id": "b1b63348",
   "metadata": {},
   "outputs": [
    {
     "data": {
      "text/html": [
       "<div>\n",
       "<style scoped>\n",
       "    .dataframe tbody tr th:only-of-type {\n",
       "        vertical-align: middle;\n",
       "    }\n",
       "\n",
       "    .dataframe tbody tr th {\n",
       "        vertical-align: top;\n",
       "    }\n",
       "\n",
       "    .dataframe thead th {\n",
       "        text-align: right;\n",
       "    }\n",
       "</style>\n",
       "<table border=\"1\" class=\"dataframe\">\n",
       "  <thead>\n",
       "    <tr style=\"text-align: right;\">\n",
       "      <th></th>\n",
       "      <th>Unnamed: 0</th>\n",
       "      <th>Data_Speed(Kbps)</th>\n",
       "      <th>signal_strength</th>\n",
       "    </tr>\n",
       "  </thead>\n",
       "  <tbody>\n",
       "    <tr>\n",
       "      <th>count</th>\n",
       "      <td>4000.000000</td>\n",
       "      <td>4000.000000</td>\n",
       "      <td>3452.000000</td>\n",
       "    </tr>\n",
       "    <tr>\n",
       "      <th>mean</th>\n",
       "      <td>1999.500000</td>\n",
       "      <td>8315.810000</td>\n",
       "      <td>-82.202491</td>\n",
       "    </tr>\n",
       "    <tr>\n",
       "      <th>std</th>\n",
       "      <td>1154.844867</td>\n",
       "      <td>15561.302023</td>\n",
       "      <td>18.173601</td>\n",
       "    </tr>\n",
       "    <tr>\n",
       "      <th>min</th>\n",
       "      <td>0.000000</td>\n",
       "      <td>0.000000</td>\n",
       "      <td>-112.000000</td>\n",
       "    </tr>\n",
       "    <tr>\n",
       "      <th>25%</th>\n",
       "      <td>999.750000</td>\n",
       "      <td>772.750000</td>\n",
       "      <td>-100.000000</td>\n",
       "    </tr>\n",
       "    <tr>\n",
       "      <th>50%</th>\n",
       "      <td>1999.500000</td>\n",
       "      <td>2749.500000</td>\n",
       "      <td>-81.000000</td>\n",
       "    </tr>\n",
       "    <tr>\n",
       "      <th>75%</th>\n",
       "      <td>2999.250000</td>\n",
       "      <td>7968.250000</td>\n",
       "      <td>-67.000000</td>\n",
       "    </tr>\n",
       "    <tr>\n",
       "      <th>max</th>\n",
       "      <td>3999.000000</td>\n",
       "      <td>80755.000000</td>\n",
       "      <td>-51.000000</td>\n",
       "    </tr>\n",
       "  </tbody>\n",
       "</table>\n",
       "</div>"
      ],
      "text/plain": [
       "        Unnamed: 0  Data_Speed(Kbps)  signal_strength\n",
       "count  4000.000000       4000.000000      3452.000000\n",
       "mean   1999.500000       8315.810000       -82.202491\n",
       "std    1154.844867      15561.302023        18.173601\n",
       "min       0.000000          0.000000      -112.000000\n",
       "25%     999.750000        772.750000      -100.000000\n",
       "50%    1999.500000       2749.500000       -81.000000\n",
       "75%    2999.250000       7968.250000       -67.000000\n",
       "max    3999.000000      80755.000000       -51.000000"
      ]
     },
     "execution_count": 12,
     "metadata": {},
     "output_type": "execute_result"
    }
   ],
   "source": [
    "df.describe()"
   ]
  },
  {
   "cell_type": "markdown",
   "id": "054cafca",
   "metadata": {},
   "source": [
    "## 9. Model the Regression relationship between Data_Speed(Kbps) and signal_strength"
   ]
  },
  {
   "cell_type": "code",
   "execution_count": 19,
   "id": "c642db02",
   "metadata": {},
   "outputs": [
    {
     "name": "stderr",
     "output_type": "stream",
     "text": [
      "C:\\Users\\Dell\\AppData\\Local\\Programs\\Python\\Python310\\lib\\site-packages\\seaborn\\_decorators.py:36: FutureWarning: Pass the following variables as keyword args: x, y. From version 0.12, the only valid positional argument will be `data`, and passing other arguments without an explicit keyword will result in an error or misinterpretation.\n",
      "  warnings.warn(\n"
     ]
    },
    {
     "data": {
      "image/png": "[encoded data removed]",
      "text/plain": [
       "<Figure size 640x480 with 1 Axes>"
      ]
     },
     "metadata": {},
     "output_type": "display_data"
    }
   ],
   "source": [
    "x1 = df['Data_Speed(Kbps)']\n",
    "y1 = df['signal_strength']\n",
    "sns.scatterplot(x1,y1)\n",
    "# plt.xlim(0,50)\n",
    "# plt.ylim(0,50)\n",
    "\n",
    "plt.show()"
   ]
  },
  {
   "cell_type": "code",
   "execution_count": 23,
   "id": "048c24fb",
   "metadata": {},
   "outputs": [
    {
     "data": {
      "text/html": [
       "<table class=\"simpletable\">\n",
       "<caption>OLS Regression Results</caption>\n",
       "<tr>\n",
       "  <th>Dep. Variable:</th>     <td>signal_strength</td> <th>  R-squared:         </th> <td>     nan</td>\n",
       "</tr>\n",
       "<tr>\n",
       "  <th>Model:</th>                   <td>OLS</td>       <th>  Adj. R-squared:    </th> <td>     nan</td>\n",
       "</tr>\n",
       "<tr>\n",
       "  <th>Method:</th>             <td>Least Squares</td>  <th>  F-statistic:       </th> <td>     nan</td>\n",
       "</tr>\n",
       "<tr>\n",
       "  <th>Date:</th>             <td>Mon, 29 Aug 2022</td> <th>  Prob (F-statistic):</th>  <td>   nan</td> \n",
       "</tr>\n",
       "<tr>\n",
       "  <th>Time:</th>                 <td>21:13:38</td>     <th>  Log-Likelihood:    </th> <td>     nan</td>\n",
       "</tr>\n",
       "<tr>\n",
       "  <th>No. Observations:</th>      <td>  4000</td>      <th>  AIC:               </th> <td>     nan</td>\n",
       "</tr>\n",
       "<tr>\n",
       "  <th>Df Residuals:</th>          <td>  3998</td>      <th>  BIC:               </th> <td>     nan</td>\n",
       "</tr>\n",
       "<tr>\n",
       "  <th>Df Model:</th>              <td>     1</td>      <th>                     </th>     <td> </td>   \n",
       "</tr>\n",
       "<tr>\n",
       "  <th>Covariance Type:</th>      <td>nonrobust</td>    <th>                     </th>     <td> </td>   \n",
       "</tr>\n",
       "</table>\n",
       "<table class=\"simpletable\">\n",
       "<tr>\n",
       "          <td></td>            <th>coef</th>     <th>std err</th>      <th>t</th>      <th>P>|t|</th>  <th>[0.025</th>    <th>0.975]</th>  \n",
       "</tr>\n",
       "<tr>\n",
       "  <th>const</th>            <td>       nan</td> <td>      nan</td> <td>      nan</td> <td>   nan</td> <td>      nan</td> <td>      nan</td>\n",
       "</tr>\n",
       "<tr>\n",
       "  <th>Data_Speed(Kbps)</th> <td>       nan</td> <td>      nan</td> <td>      nan</td> <td>   nan</td> <td>      nan</td> <td>      nan</td>\n",
       "</tr>\n",
       "</table>\n",
       "<table class=\"simpletable\">\n",
       "<tr>\n",
       "  <th>Omnibus:</th>       <td>   nan</td> <th>  Durbin-Watson:     </th> <td>     nan</td>\n",
       "</tr>\n",
       "<tr>\n",
       "  <th>Prob(Omnibus):</th> <td>   nan</td> <th>  Jarque-Bera (JB):  </th> <td>     nan</td>\n",
       "</tr>\n",
       "<tr>\n",
       "  <th>Skew:</th>          <td>   nan</td> <th>  Prob(JB):          </th> <td>     nan</td>\n",
       "</tr>\n",
       "<tr>\n",
       "  <th>Kurtosis:</th>      <td>   nan</td> <th>  Cond. No.          </th> <td>2.00e+04</td>\n",
       "</tr>\n",
       "</table><br/><br/>Notes:<br/>[1] Standard Errors assume that the covariance matrix of the errors is correctly specified.<br/>[2] The condition number is large,  2e+04. This might indicate that there are<br/>strong multicollinearity or other numerical problems."
      ],
      "text/plain": [
       "<class 'statsmodels.iolib.summary.Summary'>\n",
       "\"\"\"\n",
       "                            OLS Regression Results                            \n",
       "==============================================================================\n",
       "Dep. Variable:        signal_strength   R-squared:                         nan\n",
       "Model:                            OLS   Adj. R-squared:                    nan\n",
       "Method:                 Least Squares   F-statistic:                       nan\n",
       "Date:                Mon, 29 Aug 2022   Prob (F-statistic):                nan\n",
       "Time:                        21:13:38   Log-Likelihood:                    nan\n",
       "No. Observations:                4000   AIC:                               nan\n",
       "Df Residuals:                    3998   BIC:                               nan\n",
       "Df Model:                           1                                         \n",
       "Covariance Type:            nonrobust                                         \n",
       "====================================================================================\n",
       "                       coef    std err          t      P>|t|      [0.025      0.975]\n",
       "------------------------------------------------------------------------------------\n",
       "const                   nan        nan        nan        nan         nan         nan\n",
       "Data_Speed(Kbps)        nan        nan        nan        nan         nan         nan\n",
       "==============================================================================\n",
       "Omnibus:                          nan   Durbin-Watson:                     nan\n",
       "Prob(Omnibus):                    nan   Jarque-Bera (JB):                  nan\n",
       "Skew:                             nan   Prob(JB):                          nan\n",
       "Kurtosis:                         nan   Cond. No.                     2.00e+04\n",
       "==============================================================================\n",
       "\n",
       "Notes:\n",
       "[1] Standard Errors assume that the covariance matrix of the errors is correctly specified.\n",
       "[2] The condition number is large,  2e+04. This might indicate that there are\n",
       "strong multicollinearity or other numerical problems.\n",
       "\"\"\""
      ]
     },
     "execution_count": 23,
     "metadata": {},
     "output_type": "execute_result"
    }
   ],
   "source": [
    "# regresssion\n",
    "c = sm.add_constant(x1)\n",
    "result = sm.OLS(y1,c).fit()\n",
    "result.summary()"
   ]
  }
 ],
 "metadata": {
  "kernelspec": {
   "display_name": "Python 3 (ipykernel)",
   "language": "python",
   "name": "python3"
  },
  "language_info": {
   "codemirror_mode": {
    "name": "ipython",
    "version": 3
   },
   "file_extension": ".py",
   "mimetype": "text/x-python",
   "name": "python",
   "nbconvert_exporter": "python",
   "pygments_lexer": "ipython3",
   "version": "3.10.6"
  }
 },
 "nbformat": 4,
 "nbformat_minor": 5
}
